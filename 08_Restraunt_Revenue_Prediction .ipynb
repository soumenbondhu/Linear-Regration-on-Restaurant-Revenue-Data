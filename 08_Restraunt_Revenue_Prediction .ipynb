{
 "cells": [
  {
   "cell_type": "markdown",
   "metadata": {
    "id": "cw-BIxMAboVg"
   },
   "source": [
    "# **Unzipping the Dataset**"
   ]
  },
  {
   "cell_type": "code",
   "execution_count": 1,
   "metadata": {
    "id": "AnAknShRA7J9"
   },
   "outputs": [
    {
     "ename": "FileNotFoundError",
     "evalue": "[Errno 2] No such file or directory: '/content/train.csv.zip'",
     "output_type": "error",
     "traceback": [
      "\u001b[1;31m---------------------------------------------------------------------------\u001b[0m",
      "\u001b[1;31mFileNotFoundError\u001b[0m                         Traceback (most recent call last)",
      "\u001b[1;32m<ipython-input-1-4b5109c218bb>\u001b[0m in \u001b[0;36m<module>\u001b[1;34m\u001b[0m\n\u001b[0;32m      1\u001b[0m \u001b[1;32mimport\u001b[0m \u001b[0mzipfile\u001b[0m \u001b[1;32mas\u001b[0m \u001b[0mz\u001b[0m\u001b[1;33m\u001b[0m\u001b[1;33m\u001b[0m\u001b[0m\n\u001b[1;32m----> 2\u001b[1;33m \u001b[0mzip_ref\u001b[0m \u001b[1;33m=\u001b[0m \u001b[0mz\u001b[0m\u001b[1;33m.\u001b[0m\u001b[0mZipFile\u001b[0m\u001b[1;33m(\u001b[0m\u001b[1;34m\"/content/train.csv.zip\"\u001b[0m\u001b[1;33m,\u001b[0m \u001b[1;34m\"r\"\u001b[0m\u001b[1;33m)\u001b[0m \u001b[1;31m#the source path is given\u001b[0m\u001b[1;33m\u001b[0m\u001b[1;33m\u001b[0m\u001b[0m\n\u001b[0m\u001b[0;32m      3\u001b[0m \u001b[0mzip_ref\u001b[0m\u001b[1;33m.\u001b[0m\u001b[0mextractall\u001b[0m\u001b[1;33m(\u001b[0m\u001b[1;34m\"/content/\"\u001b[0m\u001b[1;33m)\u001b[0m \u001b[1;31m#the destination part is given\u001b[0m\u001b[1;33m\u001b[0m\u001b[1;33m\u001b[0m\u001b[0m\n\u001b[0;32m      4\u001b[0m \u001b[1;33m\u001b[0m\u001b[0m\n\u001b[0;32m      5\u001b[0m \u001b[0mzip_ref\u001b[0m\u001b[1;33m.\u001b[0m\u001b[0mclose\u001b[0m\u001b[1;33m(\u001b[0m\u001b[1;33m)\u001b[0m\u001b[1;33m\u001b[0m\u001b[1;33m\u001b[0m\u001b[0m\n",
      "\u001b[1;32m~\\anaconda3\\lib\\zipfile.py\u001b[0m in \u001b[0;36m__init__\u001b[1;34m(self, file, mode, compression, allowZip64, compresslevel, strict_timestamps)\u001b[0m\n\u001b[0;32m   1249\u001b[0m             \u001b[1;32mwhile\u001b[0m \u001b[1;32mTrue\u001b[0m\u001b[1;33m:\u001b[0m\u001b[1;33m\u001b[0m\u001b[1;33m\u001b[0m\u001b[0m\n\u001b[0;32m   1250\u001b[0m                 \u001b[1;32mtry\u001b[0m\u001b[1;33m:\u001b[0m\u001b[1;33m\u001b[0m\u001b[1;33m\u001b[0m\u001b[0m\n\u001b[1;32m-> 1251\u001b[1;33m                     \u001b[0mself\u001b[0m\u001b[1;33m.\u001b[0m\u001b[0mfp\u001b[0m \u001b[1;33m=\u001b[0m \u001b[0mio\u001b[0m\u001b[1;33m.\u001b[0m\u001b[0mopen\u001b[0m\u001b[1;33m(\u001b[0m\u001b[0mfile\u001b[0m\u001b[1;33m,\u001b[0m \u001b[0mfilemode\u001b[0m\u001b[1;33m)\u001b[0m\u001b[1;33m\u001b[0m\u001b[1;33m\u001b[0m\u001b[0m\n\u001b[0m\u001b[0;32m   1252\u001b[0m                 \u001b[1;32mexcept\u001b[0m \u001b[0mOSError\u001b[0m\u001b[1;33m:\u001b[0m\u001b[1;33m\u001b[0m\u001b[1;33m\u001b[0m\u001b[0m\n\u001b[0;32m   1253\u001b[0m                     \u001b[1;32mif\u001b[0m \u001b[0mfilemode\u001b[0m \u001b[1;32min\u001b[0m \u001b[0mmodeDict\u001b[0m\u001b[1;33m:\u001b[0m\u001b[1;33m\u001b[0m\u001b[1;33m\u001b[0m\u001b[0m\n",
      "\u001b[1;31mFileNotFoundError\u001b[0m: [Errno 2] No such file or directory: '/content/train.csv.zip'"
     ]
    }
   ],
   "source": [
    "\n",
    "import zipfile as z\n",
    "zip_ref = z.ZipFile(\"/content/train.csv.zip\", \"r\") #the source path is given\n",
    "zip_ref.extractall(\"/content/\") #the destination part is given\n",
    "\n",
    "zip_ref.close()"
   ]
  },
  {
   "cell_type": "markdown",
   "metadata": {
    "id": "c7CHA4vYbuPU"
   },
   "source": [
    "# **Importing important libraries**"
   ]
  },
  {
   "cell_type": "code",
   "execution_count": null,
   "metadata": {
    "id": "JC3D9RggDmmi"
   },
   "outputs": [],
   "source": [
    "import numpy as np\n",
    "import pandas as pd\n",
    "import matplotlib.pyplot as plt\n",
    "import seaborn as sns\n",
    "%matplotlib inline\n"
   ]
  },
  {
   "cell_type": "code",
   "execution_count": null,
   "metadata": {
    "colab": {
     "base_uri": "https://localhost:8080/",
     "height": 541
    },
    "id": "M0CD5pwjEIL1",
    "outputId": "e363e7dc-8686-4c09-def1-67b7c73f7625"
   },
   "outputs": [],
   "source": [
    "df=pd.read_csv(\"/content/train.csv\")\n",
    "df"
   ]
  },
  {
   "cell_type": "markdown",
   "metadata": {
    "id": "3ZIkeAQ3m0NC"
   },
   "source": [
    "# **Data Analysis & Data Visualization**"
   ]
  },
  {
   "cell_type": "code",
   "execution_count": null,
   "metadata": {
    "colab": {
     "base_uri": "https://localhost:8080/"
    },
    "id": "ILH3I-fGETXo",
    "outputId": "0d738ffc-77b9-44a6-dbdd-944560a35d4b"
   },
   "outputs": [],
   "source": [
    "df.shape"
   ]
  },
  {
   "cell_type": "markdown",
   "metadata": {
    "id": "clvAAqogcAwo"
   },
   "source": [
    "This says that the dataset has 137 rows and 43 columns. Sumply meaning, there are 137 data points in the datatset and there are 43 features, one of them is target feature.\n"
   ]
  },
  {
   "cell_type": "code",
   "execution_count": null,
   "metadata": {
    "colab": {
     "base_uri": "https://localhost:8080/"
    },
    "id": "gTWlQ4fLExop",
    "outputId": "d17be99c-a19a-4ca7-9693-05a24bb8da1a"
   },
   "outputs": [],
   "source": [
    "df.columns"
   ]
  },
  {
   "cell_type": "code",
   "execution_count": null,
   "metadata": {
    "colab": {
     "base_uri": "https://localhost:8080/"
    },
    "id": "Jk2lcu8cEhld",
    "outputId": "83dd4aa8-a1e9-4a03-dbc7-f2c9fc82d0b3"
   },
   "outputs": [],
   "source": [
    "\n",
    "df.isna().sum()"
   ]
  },
  {
   "cell_type": "markdown",
   "metadata": {
    "id": "yMYoT2s1cYbe"
   },
   "source": [
    "This says there are no Missing Values. Good for us."
   ]
  },
  {
   "cell_type": "code",
   "execution_count": null,
   "metadata": {
    "colab": {
     "base_uri": "https://localhost:8080/"
    },
    "id": "x5_JPlFsFR8X",
    "outputId": "61887264-d89a-4fdc-e0f0-145485f55374"
   },
   "outputs": [],
   "source": [
    "df.info()"
   ]
  },
  {
   "cell_type": "markdown",
   "metadata": {
    "id": "jYWWFLO4cfq6"
   },
   "source": [
    "From here we see that **4 of the features are object type** which the model can not understand. So they need to be **encoded**. \n",
    "\n",
    "Apart from that, Another observation is that we don't need to use the feature 'ID' as it's anyway **not going to give me any insight of the revenue**. So we will simply drop it."
   ]
  },
  {
   "cell_type": "code",
   "execution_count": null,
   "metadata": {
    "colab": {
     "base_uri": "https://localhost:8080/",
     "height": 541
    },
    "id": "HUUJ-1T-ErHE",
    "outputId": "69767241-44ae-4c67-8b3f-976337b60a49"
   },
   "outputs": [],
   "source": [
    "#The ID column is irrelevant so we will drop them.\n",
    "df=df.drop('Id',axis=1)\n",
    "df"
   ]
  },
  {
   "cell_type": "markdown",
   "metadata": {
    "id": "aeo4eoTfglLd"
   },
   "source": [
    "Now I am going to convert the 'Open Date' feature in **datetime format** so that I can extract the month and year from it. I want to do this because the date doesn't give me any insight of the revenue. But the **month and year surely does.**"
   ]
  },
  {
   "cell_type": "code",
   "execution_count": null,
   "metadata": {
    "colab": {
     "base_uri": "https://localhost:8080/",
     "height": 626
    },
    "id": "eG9WRuxcFDE_",
    "outputId": "7958ed0d-86e1-4d39-c080-738136bcb114"
   },
   "outputs": [],
   "source": [
    "df['Open Date'] = pd.to_datetime(df['Open Date'])\n",
    "df"
   ]
  },
  {
   "cell_type": "markdown",
   "metadata": {
    "id": "aViODuORh7dn"
   },
   "source": [
    "Here I am extracting the **month** from the feature **'Open Date'**."
   ]
  },
  {
   "cell_type": "code",
   "execution_count": null,
   "metadata": {
    "id": "nSo_oj_aF3mj"
   },
   "outputs": [],
   "source": [
    "df['month']=[x.month for x in df['Open Date']]"
   ]
  },
  {
   "cell_type": "markdown",
   "metadata": {
    "id": "xwLSlQsoiU3o"
   },
   "source": [
    "Here I am extracting the **year** from the feature **'Open Date'**."
   ]
  },
  {
   "cell_type": "code",
   "execution_count": null,
   "metadata": {
    "id": "EleiuLuyGJfo"
   },
   "outputs": [],
   "source": [
    "df['year']=[x.year for x in df['Open Date']]"
   ]
  },
  {
   "cell_type": "markdown",
   "metadata": {
    "id": "2Wzl8W15iW_c"
   },
   "source": [
    "Now we will **drop 'Open Date'** as well as we have extracted all the information from it and now its of no use to me."
   ]
  },
  {
   "cell_type": "code",
   "execution_count": null,
   "metadata": {
    "colab": {
     "base_uri": "https://localhost:8080/",
     "height": 541
    },
    "id": "RZu5c9baGJ_J",
    "outputId": "04b2398f-8ecb-4cb8-f309-eef7b9dffd0d"
   },
   "outputs": [],
   "source": [
    "df=df.drop(['Open Date'],axis=1)\n",
    "df"
   ]
  },
  {
   "cell_type": "markdown",
   "metadata": {
    "id": "xOXHVBSrishU"
   },
   "source": [
    "Now let's try to **visualize the trends** in month and year to understand how they affect the revenue."
   ]
  },
  {
   "cell_type": "code",
   "execution_count": null,
   "metadata": {
    "colab": {
     "base_uri": "https://localhost:8080/",
     "height": 350
    },
    "id": "K0aOPDApGW9g",
    "outputId": "12a92b03-85bc-4bfc-ab24-cac36a2b02bd"
   },
   "outputs": [],
   "source": [
    "sns.countplot(df['month'])"
   ]
  },
  {
   "cell_type": "markdown",
   "metadata": {
    "id": "vKf13mRAi_GC"
   },
   "source": [
    "From the above plot we can look at the occurence of various months in the dataset. We have the most data for the last 5 months. The highest of them is from **August** and **December**. Now let's see in which month did we have the most revenue. For this I will try to find the **mean of the revenue** for each month."
   ]
  },
  {
   "cell_type": "code",
   "execution_count": null,
   "metadata": {
    "colab": {
     "base_uri": "https://localhost:8080/"
    },
    "id": "njQ5znG_XYSk",
    "outputId": "de71a585-672a-4683-d5fd-1451fefd184e"
   },
   "outputs": [],
   "source": [
    "df.groupby('month')['revenue'].mean()\n"
   ]
  },
  {
   "cell_type": "markdown",
   "metadata": {
    "id": "b7StNl_DklCS"
   },
   "source": [
    "From here we can see that the month **January gave the most revenue** to the restraunts. **September** and **October** followed January. Let's try to plot a bargraph with the same and visualize the same trends."
   ]
  },
  {
   "cell_type": "code",
   "execution_count": null,
   "metadata": {
    "colab": {
     "base_uri": "https://localhost:8080/",
     "height": 361
    },
    "id": "DZKng8EsW2hU",
    "outputId": "84ec8ea9-1644-463b-bc08-eb16a6090b74"
   },
   "outputs": [],
   "source": [
    "sns.barplot('month','revenue',data=df)"
   ]
  },
  {
   "cell_type": "markdown",
   "metadata": {
    "id": "XjU39D7hnNH_"
   },
   "source": [
    "So these bargraphs are giving out the same information. Now lets try to do same kind of stuffs for the newly generated feature **'year'**."
   ]
  },
  {
   "cell_type": "code",
   "execution_count": null,
   "metadata": {
    "colab": {
     "base_uri": "https://localhost:8080/",
     "height": 350
    },
    "id": "UXanR5irG5Gc",
    "outputId": "22f717e1-8bad-402c-9216-f4967243087b"
   },
   "outputs": [],
   "source": [
    "sns.countplot(df['year'])"
   ]
  },
  {
   "cell_type": "markdown",
   "metadata": {
    "id": "8EnUFT9Ynu7d"
   },
   "source": [
    "Here we are having a bit of trouble in visualization because the labels in the x-axis are not clear. Let's try to zoom in a bit!!"
   ]
  },
  {
   "cell_type": "code",
   "execution_count": null,
   "metadata": {
    "colab": {
     "base_uri": "https://localhost:8080/",
     "height": 459
    },
    "id": "1HtNF37uHAGz",
    "outputId": "00ad42c6-1927-4b7a-b576-549ffdc57a7b"
   },
   "outputs": [],
   "source": [
    "plt.figure(figsize=(15,6))\n",
    "sns.countplot(df['year'])"
   ]
  },
  {
   "cell_type": "markdown",
   "metadata": {
    "id": "fLCMxc1KoRk2"
   },
   "source": [
    "From here we can see that the most of the data is from the years **2008-2013**. Out of them the most of the data is from the year 2011. The other years are contruibuting really less on the basis of number of data. This is also going to affect the results as well.\n"
   ]
  },
  {
   "cell_type": "code",
   "execution_count": null,
   "metadata": {
    "colab": {
     "base_uri": "https://localhost:8080/"
    },
    "id": "_FLYvpodYWVE",
    "outputId": "a5527e48-a2f9-481b-fb5c-3b3d0e29937d"
   },
   "outputs": [],
   "source": [
    "df.groupby('year')['revenue'].mean()\n"
   ]
  },
  {
   "cell_type": "code",
   "execution_count": null,
   "metadata": {
    "colab": {
     "base_uri": "https://localhost:8080/",
     "height": 470
    },
    "id": "2Wo0BWkRYgIt",
    "outputId": "31047a1a-a541-4595-ec1c-b6b4ed819eb6"
   },
   "outputs": [],
   "source": [
    "plt.figure(figsize=(15,6))\n",
    "sns.barplot('year','revenue',data=df)"
   ]
  },
  {
   "cell_type": "markdown",
   "metadata": {
    "id": "RjzQbhB9pGgP"
   },
   "source": [
    "Out of all the years, the highest revenue was generated in the year **2000** and after that **1999** and **2005**."
   ]
  },
  {
   "cell_type": "markdown",
   "metadata": {
    "id": "Ibl5ULCEpbhZ"
   },
   "source": [
    "# **Data Preprocessing.**"
   ]
  },
  {
   "cell_type": "code",
   "execution_count": null,
   "metadata": {
    "colab": {
     "base_uri": "https://localhost:8080/"
    },
    "id": "29pLv_qyHL5G",
    "outputId": "386a4ccc-4552-4be8-d3d8-6ff9c0d5908c"
   },
   "outputs": [],
   "source": [
    "df['Type'].value_counts()\n"
   ]
  },
  {
   "cell_type": "markdown",
   "metadata": {
    "id": "y5KiyJs_pn1N"
   },
   "source": [
    "There are 3 distinct values in the feature **'Type'**. We can encode the values as this:\n",
    "\n",
    "**FC as 0;**\n",
    "\n",
    "\n",
    "**IL as 1;**\n",
    "\n",
    "**DT as 2;**\n",
    "\n",
    "The order or the numbers can be anything."
   ]
  },
  {
   "cell_type": "code",
   "execution_count": null,
   "metadata": {
    "id": "axx56ry9HfVZ"
   },
   "outputs": [],
   "source": [
    "ty={'FC':0,'IL':1,'DT':2}\n",
    "df['Type'] = df['Type'].map(ty)\n"
   ]
  },
  {
   "cell_type": "code",
   "execution_count": null,
   "metadata": {
    "colab": {
     "base_uri": "https://localhost:8080/"
    },
    "id": "GIl5nRSFH8vR",
    "outputId": "ee7898ed-1f87-48ac-f469-745bba4e3a63"
   },
   "outputs": [],
   "source": [
    "df"
   ]
  },
  {
   "cell_type": "code",
   "execution_count": null,
   "metadata": {
    "colab": {
     "base_uri": "https://localhost:8080/"
    },
    "id": "jleKY28_H_Ic",
    "outputId": "ea251440-e9ec-4e83-e662-86adae90dee1"
   },
   "outputs": [],
   "source": [
    "df['City Group'].value_counts()\n"
   ]
  },
  {
   "cell_type": "code",
   "execution_count": null,
   "metadata": {
    "id": "3OARNT6aIO1W"
   },
   "outputs": [],
   "source": [
    "cg={'Big Cities':0,'Other':1}\n",
    "df['City Group'] = df['City Group'].map(cg)\n"
   ]
  },
  {
   "cell_type": "code",
   "execution_count": null,
   "metadata": {
    "colab": {
     "base_uri": "https://localhost:8080/"
    },
    "id": "OsRy3EtRIjpP",
    "outputId": "1e9e37c0-f313-4569-81f0-f09b7d8bc8f6"
   },
   "outputs": [],
   "source": [
    "df"
   ]
  },
  {
   "cell_type": "code",
   "execution_count": null,
   "metadata": {
    "id": "Rehbcrl6IlLf"
   },
   "outputs": [],
   "source": [
    "a=df['City'].value_counts()\n"
   ]
  },
  {
   "cell_type": "markdown",
   "metadata": {
    "id": "UdjGwMqEqXYX"
   },
   "source": [
    "Here manually creating the dictionary is inefficient. So we will store the city names in a list and then use the element as the **key** of the dictionary and the index of each element as its **key values**. "
   ]
  },
  {
   "cell_type": "code",
   "execution_count": null,
   "metadata": {
    "id": "GhnWUJ1rIsEb"
   },
   "outputs": [],
   "source": [
    "b=a.index"
   ]
  },
  {
   "cell_type": "code",
   "execution_count": null,
   "metadata": {
    "colab": {
     "base_uri": "https://localhost:8080/"
    },
    "id": "ZAs53-oVI8iE",
    "outputId": "75eeb71b-b2e6-4fec-99ae-a1856f338313"
   },
   "outputs": [],
   "source": [
    "c={}\n",
    "for i,j in enumerate(b):\n",
    "  c.update({j:i})\n",
    "  print(c)\n"
   ]
  },
  {
   "cell_type": "code",
   "execution_count": 2,
   "metadata": {
    "colab": {
     "base_uri": "https://localhost:8080/"
    },
    "id": "0LsVIPTdJMvH",
    "outputId": "ad0ac010-3058-472a-f2ca-f9518295519b"
   },
   "outputs": [
    {
     "ename": "NameError",
     "evalue": "name 'c' is not defined",
     "output_type": "error",
     "traceback": [
      "\u001b[1;31m---------------------------------------------------------------------------\u001b[0m",
      "\u001b[1;31mNameError\u001b[0m                                 Traceback (most recent call last)",
      "\u001b[1;32m<ipython-input-2-2b66fd261ee5>\u001b[0m in \u001b[0;36m<module>\u001b[1;34m\u001b[0m\n\u001b[1;32m----> 1\u001b[1;33m \u001b[0mc\u001b[0m\u001b[1;33m\u001b[0m\u001b[1;33m\u001b[0m\u001b[0m\n\u001b[0m",
      "\u001b[1;31mNameError\u001b[0m: name 'c' is not defined"
     ]
    }
   ],
   "source": [
    "c"
   ]
  },
  {
   "cell_type": "code",
   "execution_count": null,
   "metadata": {
    "colab": {
     "base_uri": "https://localhost:8080/"
    },
    "id": "w8l3Aq9gKJf9",
    "outputId": "2e3f6487-1f40-45ca-f7c0-1c6398592dbc"
   },
   "outputs": [],
   "source": [
    "df['City'] = df['City'].map(c)\n",
    "df"
   ]
  },
  {
   "cell_type": "code",
   "execution_count": null,
   "metadata": {
    "colab": {
     "base_uri": "https://localhost:8080/"
    },
    "id": "ErH2IUh2Wnhu",
    "outputId": "55ded49e-7d3c-445b-c40f-8268b54f68f7"
   },
   "outputs": [],
   "source": [
    "df.info()"
   ]
  },
  {
   "cell_type": "markdown",
   "metadata": {
    "id": "S2-uTi0zq-ct"
   },
   "source": [
    "Now everything looks just fine. So we can go ahead with the data and start model building."
   ]
  },
  {
   "cell_type": "markdown",
   "metadata": {
    "id": "CKcWqAM5rG3H"
   },
   "source": [
    "# **Building the Model**"
   ]
  },
  {
   "cell_type": "markdown",
   "metadata": {
    "id": "QO7zaFShrVk5"
   },
   "source": [
    "The first task will be to **split the dataset** into train set and test set."
   ]
  },
  {
   "cell_type": "code",
   "execution_count": null,
   "metadata": {
    "id": "hrZptn58X64O"
   },
   "outputs": [],
   "source": [
    "from sklearn.model_selection import train_test_split\n",
    "x=df.drop('revenue',axis=1)\n",
    "y=df['revenue']\n",
    "X_train, X_test, y_train, y_test = train_test_split(x,y,test_size=0.30)\n"
   ]
  },
  {
   "cell_type": "markdown",
   "metadata": {
    "id": "KmYWsAoxrzEr"
   },
   "source": [
    "Let's check the dimension of train and test set."
   ]
  },
  {
   "cell_type": "code",
   "execution_count": null,
   "metadata": {
    "colab": {
     "base_uri": "https://localhost:8080/"
    },
    "id": "mYM6EVfGZAve",
    "outputId": "ef0732e5-31b0-43aa-ef37-1f5f011e4b8b"
   },
   "outputs": [],
   "source": [
    "X_train.shape"
   ]
  },
  {
   "cell_type": "code",
   "execution_count": null,
   "metadata": {
    "colab": {
     "base_uri": "https://localhost:8080/"
    },
    "id": "fkVP10bGZFXz",
    "outputId": "6fcdfe2c-e9d5-47df-adaa-44b78eaa982e"
   },
   "outputs": [],
   "source": [
    "y_train.shape"
   ]
  },
  {
   "cell_type": "code",
   "execution_count": null,
   "metadata": {
    "colab": {
     "base_uri": "https://localhost:8080/"
    },
    "id": "lh2e0i8uZISM",
    "outputId": "76150009-d68a-4b95-ceb6-6fffc156b444"
   },
   "outputs": [],
   "source": [
    "X_test.shape"
   ]
  },
  {
   "cell_type": "code",
   "execution_count": null,
   "metadata": {
    "colab": {
     "base_uri": "https://localhost:8080/"
    },
    "id": "NVNqv_Z3ZRiB",
    "outputId": "b6f58947-5523-4715-ed3d-5a65e394fe74"
   },
   "outputs": [],
   "source": [
    "y_test.shape"
   ]
  },
  {
   "cell_type": "markdown",
   "metadata": {
    "id": "HtymfkxKsBQD"
   },
   "source": [
    "Before moving ahead, I am importing all the models from sklearn"
   ]
  },
  {
   "cell_type": "code",
   "execution_count": null,
   "metadata": {
    "id": "5UQrNCGgZTfH"
   },
   "outputs": [],
   "source": [
    "from sklearn.linear_model import LinearRegression\n",
    "from sklearn.tree import DecisionTreeRegressor\n",
    "from sklearn.ensemble import RandomForestRegressor\n",
    "from sklearn.neighbors import KNeighborsRegressor\n",
    "from xgboost import XGBRegressor"
   ]
  },
  {
   "cell_type": "markdown",
   "metadata": {
    "id": "am1_4p4xr6Lm"
   },
   "source": [
    "## Linear Regression"
   ]
  },
  {
   "cell_type": "code",
   "execution_count": null,
   "metadata": {
    "id": "epTvCycHZgIn"
   },
   "outputs": [],
   "source": [
    "lr = LinearRegression() #create the object of the model\n",
    "lr=lr.fit(X_train,y_train)"
   ]
  },
  {
   "cell_type": "code",
   "execution_count": null,
   "metadata": {
    "id": "JMj7wJU-aVMX"
   },
   "outputs": [],
   "source": [
    "from sklearn.metrics import mean_absolute_error,mean_squared_error,r2_score"
   ]
  },
  {
   "cell_type": "code",
   "execution_count": null,
   "metadata": {
    "colab": {
     "base_uri": "https://localhost:8080/"
    },
    "id": "e6_UswhlZ5eA",
    "outputId": "ee7b03b7-c265-487b-824a-eeda71e77d9f"
   },
   "outputs": [],
   "source": [
    "pred = lr.predict(X_test)\n",
    "s=mean_absolute_error(y_test,pred)\n",
    "s1=mean_squared_error(y_test,pred)\n",
    "s2=r2_score(y_test,pred)\n",
    "\n",
    "print(\"The MAE with the linear regressor is: \"+str(s))\n",
    "print(\"The MsE with the linear regressor is: \"+str(s1))\n",
    "print(\"The R2_Score with the linear regressor is: \"+str(s2))"
   ]
  },
  {
   "cell_type": "markdown",
   "metadata": {
    "id": "XOU6f3cMsPIF"
   },
   "source": [
    "## Decision Tree Regressor"
   ]
  },
  {
   "cell_type": "code",
   "execution_count": null,
   "metadata": {
    "id": "EO2SGAO8aQHY"
   },
   "outputs": [],
   "source": [
    "dtr = DecisionTreeRegressor() #create the object of the model\n",
    "dtr=dtr.fit(X_train,y_train)"
   ]
  },
  {
   "cell_type": "code",
   "execution_count": null,
   "metadata": {
    "colab": {
     "base_uri": "https://localhost:8080/"
    },
    "id": "pAWZW4ZPbRx1",
    "outputId": "7a13468b-3ed6-460a-bec2-edc077c9c9a0"
   },
   "outputs": [],
   "source": [
    "pred = dtr.predict(X_test)\n",
    "s=mean_absolute_error(y_test,pred)\n",
    "s1=mean_squared_error(y_test,pred)\n",
    "s2=r2_score(y_test,pred)\n",
    "\n",
    "print(\"The MAE with the DT regressor is: \"+str(s))\n",
    "print(\"The MsE with the DT regressor is: \"+str(s1))\n",
    "print(\"The R2_Score with the DT regressor is: \"+str(s2))"
   ]
  },
  {
   "cell_type": "markdown",
   "metadata": {
    "id": "feXjGlyJs6X5"
   },
   "source": [
    "## Random Forest Regressor"
   ]
  },
  {
   "cell_type": "code",
   "execution_count": null,
   "metadata": {
    "id": "EZFB0m99bZMd"
   },
   "outputs": [],
   "source": [
    "r = RandomForestRegressor() #create the object of the model\n",
    "r=r.fit(X_train,y_train)"
   ]
  },
  {
   "cell_type": "code",
   "execution_count": null,
   "metadata": {
    "colab": {
     "base_uri": "https://localhost:8080/"
    },
    "id": "W9huzQ7ZbsZo",
    "outputId": "c41af3bc-dc72-469f-a43f-8f14b8df9250"
   },
   "outputs": [],
   "source": [
    "pred = r.predict(X_test)\n",
    "s=mean_absolute_error(y_test,pred)\n",
    "s1=mean_squared_error(y_test,pred)\n",
    "s2=r2_score(y_test,pred)\n",
    "\n",
    "print(\"The MAE with the RF regressor is: \"+str(s))\n",
    "print(\"The MsE with the RF regressor is: \"+str(s1))\n",
    "print(\"The R2_Score with the RF regressor is: \"+str(s2))"
   ]
  },
  {
   "cell_type": "markdown",
   "metadata": {
    "id": "iruk7gaUtCWD"
   },
   "source": [
    "## K-Neighbors Regressor"
   ]
  },
  {
   "cell_type": "code",
   "execution_count": null,
   "metadata": {
    "id": "FDR-sbYqbxAP"
   },
   "outputs": [],
   "source": [
    "knn=KNeighborsRegressor()\n",
    "knn=knn.fit(X_train,y_train)"
   ]
  },
  {
   "cell_type": "code",
   "execution_count": null,
   "metadata": {
    "colab": {
     "base_uri": "https://localhost:8080/"
    },
    "id": "E6DmyPkZcLyy",
    "outputId": "fccd1520-48ed-481a-b1af-027297dc88d4"
   },
   "outputs": [],
   "source": [
    "pred = knn.predict(X_test)\n",
    "s=mean_absolute_error(y_test,pred)\n",
    "s1=mean_squared_error(y_test,pred)\n",
    "s2=r2_score(y_test,pred)\n",
    "\n",
    "print(\"The MAE with the KNN regressor is: \"+str(s))\n",
    "print(\"The MsE with the KNN regressor is: \"+str(s1))\n",
    "print(\"The R2_Score with the KNN regressor is: \"+str(s2))"
   ]
  },
  {
   "cell_type": "markdown",
   "metadata": {
    "id": "PJ2xFS-otIN4"
   },
   "source": [
    "## XGB Regressor"
   ]
  },
  {
   "cell_type": "code",
   "execution_count": null,
   "metadata": {
    "colab": {
     "base_uri": "https://localhost:8080/"
    },
    "id": "jcQab3aUcRGO",
    "outputId": "cd9d56db-4ec6-401a-97e6-2ffe7e9bd54f"
   },
   "outputs": [],
   "source": [
    "xgb=XGBRegressor()\n",
    "xgb=xgb.fit(X_train,y_train)"
   ]
  },
  {
   "cell_type": "code",
   "execution_count": null,
   "metadata": {
    "colab": {
     "base_uri": "https://localhost:8080/"
    },
    "id": "P4abgRUicYFO",
    "outputId": "6a9fa6eb-40ad-417c-a3fc-c96b6f8cee88"
   },
   "outputs": [],
   "source": [
    "pred = xgb.predict(X_test)\n",
    "s=mean_absolute_error(y_test,pred)\n",
    "s1=mean_squared_error(y_test,pred)\n",
    "s2=r2_score(y_test,pred)\n",
    "\n",
    "print(\"The MAE with the XGB regressor is: \"+str(s))\n",
    "print(\"The MsE with the XGB regressor is: \"+str(s1))\n",
    "print(\"The R2_Score with the XGB regressor is: \"+str(s2))"
   ]
  },
  {
   "cell_type": "markdown",
   "metadata": {
    "id": "YVYrJK5XuNZV"
   },
   "source": [
    "From all the models, RFregressor gave the minimum error, So thats the best model and should be chosen as the final model."
   ]
  },
  {
   "cell_type": "code",
   "execution_count": null,
   "metadata": {
    "id": "Z_2uvljouhdE"
   },
   "outputs": [],
   "source": []
  }
 ],
 "metadata": {
  "colab": {
   "name": "Restraunt_Revenue_Prediction.ipynb",
   "provenance": [],
   "toc_visible": true
  },
  "kernelspec": {
   "display_name": "Python 3",
   "language": "python",
   "name": "python3"
  },
  "language_info": {
   "codemirror_mode": {
    "name": "ipython",
    "version": 3
   },
   "file_extension": ".py",
   "mimetype": "text/x-python",
   "name": "python",
   "nbconvert_exporter": "python",
   "pygments_lexer": "ipython3",
   "version": "3.8.8"
  }
 },
 "nbformat": 4,
 "nbformat_minor": 1
}
